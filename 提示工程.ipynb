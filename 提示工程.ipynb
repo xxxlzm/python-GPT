{
 "cells": [
  {
   "cell_type": "markdown",
   "metadata": {},
   "source": [
    "导入提示模板"
   ]
  },
  {
   "cell_type": "code",
   "execution_count": 1,
   "metadata": {},
   "outputs": [],
   "source": [
    "\n",
    "from langchain.prompts.prompt import PromptTemplate\n",
    "from langchain.prompts import FewShotPromptTemplate\n",
    "from langchain.prompts.pipeline import PipelinePromptTemplate\n",
    "from langchain.prompts import ChatPromptTemplate\n",
    "from langchain.prompts import (\n",
    "    ChatMessagePromptTemplate,\n",
    "    SystemMessagePromptTemplate,\n",
    "    AIMessagePromptTemplate,\n",
    "    HumanMessagePromptTemplate,\n",
    ")\n"
   ]
  },
  {
   "cell_type": "markdown",
   "metadata": {},
   "source": [
    "使用PromptTemplate"
   ]
  },
  {
   "cell_type": "code",
   "execution_count": 2,
   "metadata": {},
   "outputs": [
    {
     "name": "stdout",
     "output_type": "stream",
     "text": [
      "你是业务咨询顾问。\n",
      "你给一个销售鲜花的电商公司，起一个好的名字？\n",
      "\n"
     ]
    }
   ],
   "source": [
    "from langchain import PromptTemplate\n",
    "\n",
    "template = \"\"\"\\\n",
    "你是业务咨询顾问。\n",
    "你给一个销售{product}的电商公司，起一个好的名字？\n",
    "\"\"\"\n",
    "prompt = PromptTemplate.from_template(template)\n",
    "\n",
    "print(prompt.format(product=\"鲜花\"))\n"
   ]
  },
  {
   "cell_type": "code",
   "execution_count": 3,
   "metadata": {},
   "outputs": [
    {
     "name": "stdout",
     "output_type": "stream",
     "text": [
      "你是业务咨询顾问。对于一个面向高端市场的，专注于销售鲜花的公司，你会推荐哪个名字？\n"
     ]
    }
   ],
   "source": [
    "prompt = PromptTemplate(\n",
    "    input_variables=[\"product\", \"market\"], \n",
    "    template=\"你是业务咨询顾问。对于一个面向{market}市场的，专注于销售{product}的公司，你会推荐哪个名字？\"\n",
    ")\n",
    "print(prompt.format(product=\"鲜花\", market=\"高端\"))\n"
   ]
  },
  {
   "cell_type": "markdown",
   "metadata": {},
   "source": [
    "# 使用ChatPromptTemplate,不同写法下：\n",
    "## 第一种调用API的写法："
   ]
  },
  {
   "cell_type": "code",
   "execution_count": 11,
   "metadata": {},
   "outputs": [
    {
     "name": "stdout",
     "output_type": "stream",
     "text": [
      "为一个面向高端市场、专注于销售鲜花的公司推荐名字时，可以考虑以下几个选项：\n",
      "\n",
      "1. **花韵坊** - 强调花卉的优雅与韵味，适合高端市场。\n",
      "2. **绽放精致** - 传达出鲜花的美丽与品质。\n",
      "3. **花艺珍藏** - 突出鲜花的独特性和珍贵感。\n",
      "4. **芳华时光** - 暗示鲜花与美好时光的结合，适合高端客户。\n",
      "5. **奢花阁** - 直接传达高端奢华的感觉。\n",
      "6. **花之奢品** - 强调鲜花作为一种奢侈品的定位。\n",
      "7. **芬芳之巅** - 表达出高端、独特和品质的联想。\n",
      "\n",
      "希望这些名字能帮助到你！\n"
     ]
    }
   ],
   "source": [
    "import os\n",
    "os.environ[\"OPENAI_BASE_URL\"] = 'https://chatapi.littlewheat.com/v1'\n",
    "from langchain_openai import ChatOpenAI\n",
    "model = ChatOpenAI(model_name='gpt-3.5-turbo')\n",
    "input = prompt.format(product=\"鲜花\", market=\"高端\")\n",
    "#输出\n",
    "output = model.invoke(input)\n",
    "\n",
    "print(output.content)  \n"
   ]
  },
  {
   "cell_type": "markdown",
   "metadata": {},
   "source": [
    "## 第二种调用"
   ]
  },
  {
   "cell_type": "code",
   "execution_count": 13,
   "metadata": {},
   "outputs": [
    {
     "name": "stdout",
     "output_type": "stream",
     "text": [
      "The 2020 World Series was played at Globe Life Field in Arlington, Texas. This was notable because it was the first time the World Series was held at a neutral site due to the COVID-19 pandemic.\n"
     ]
    }
   ],
   "source": [
    "import os\n",
    "from openai import OpenAI\n",
    "os.environ[\"OPENAI_BASE_URL\"] = 'https://chatapi.littlewheat.com/v1'\n",
    "client = OpenAI(\n",
    "    api_key=os.environ.get(\"OPENAI_API_KEY\"), \n",
    ")\n",
    "response = client.chat.completions.create(\n",
    "    model=\"gpt-3.5-turbo\",\n",
    "    messages=[ \n",
    "        {\"role\": \"system\", \"content\": \"You are a helpful assistant.\"},\n",
    "        {\"role\": \"user\", \"content\": \"Who won the world series in 2020?\"},\n",
    "        {\"role\": \"assistant\", \"content\": \"The Los Angeles Dodgers won the World Series in 2020.\"},\n",
    "        {\"role\": \"user\", \"content\": \"Where was it played?\"}\n",
    "    ]\n",
    ")\n",
    "\n",
    "print(response.choices[0].message.content)\n"
   ]
  },
  {
   "cell_type": "markdown",
   "metadata": {},
   "source": [
    "## 第三种通过langchain调用方法"
   ]
  },
  {
   "cell_type": "markdown",
   "metadata": {},
   "source": [
    "LangChain的ChatPromptTemplate模板示例"
   ]
  },
  {
   "cell_type": "code",
   "execution_count": null,
   "metadata": {},
   "outputs": [
    {
     "name": "stdout",
     "output_type": "stream",
     "text": [
      "为您的鲜花装饰公司起名，可以考虑以下几个方向，以突出创新和独特性：\n",
      "\n",
      "1. **花意独特**（Unique Bloom）\n",
      "2. **绽放创想**（Blossom Innovations）\n",
      "3. **花艺风尚**（Floral Flair）\n",
      "4. **绚丽花境**（Vivid Floral Design）\n",
      "5. **花海传奇**（Floral Odyssey）\n",
      "6. **奇幻花园**（Enchanted Garden）\n",
      "7. **花艺梦想**（Floral Dreams）\n",
      "8. **绽放创意**（Creative Blossoms）\n",
      "9. **色彩花语**（Colorful Petals）\n",
      "10. **花开新意**（Fresh Bloom Concepts）\n",
      "\n",
      "这些名字都强调了创新和美感，同时容易记忆，能够吸引客户的注意。希望您能找到一个合适的名字！\n"
     ]
    }
   ],
   "source": [
    "# 导入聊天消息类模板\n",
    "from langchain.prompts import (\n",
    "    ChatPromptTemplate,\n",
    "    SystemMessagePromptTemplate,\n",
    "    HumanMessagePromptTemplate,\n",
    ")\n",
    "# 模板的构建\n",
    "template=\"你是一位专业顾问，负责为专注于{product}的公司起名。\"\n",
    "system_message_prompt = SystemMessagePromptTemplate.from_template(template)\n",
    "human_template=\"公司主打产品是{product_detail}。\"\n",
    "human_message_prompt = HumanMessagePromptTemplate.from_template(human_template)\n",
    "prompt_template = ChatPromptTemplate.from_messages([system_message_prompt, human_message_prompt])\n",
    "\n",
    "# 格式化提示消息生成提示\n",
    "prompt = prompt_template.format_prompt(product=\"鲜花装饰\", product_detail=\"创新的鲜花设计。\").to_messages()\n",
    "\n",
    "# 下面调用模型，把提示传入模型，生成结果\n",
    "import os\n",
    "os.environ[\"OPENAI_BASE_URL\"] = 'https://chatapi.littlewheat.com/v1'\n",
    "from langchain.chat_models import ChatOpenAI\n",
    "chat = ChatOpenAI()\n",
    "result = chat(prompt)\n",
    "print(result.content)\n"
   ]
  },
  {
   "cell_type": "markdown",
   "metadata": {},
   "source": [
    "# 使用FewShotPromptTemplate"
   ]
  },
  {
   "cell_type": "markdown",
   "metadata": {},
   "source": [
    "## 创建示例样本\n",
    "    包含了四个字典，每个字典代表一种花的类型、迎合的场合、以及对应的广告文案，"
   ]
  },
  {
   "cell_type": "code",
   "execution_count": 1,
   "metadata": {},
   "outputs": [],
   "source": [
    "# 1. 创建一些示例\n",
    "samples = [\n",
    "    {\n",
    "    \"flower_type\": \"玫瑰\",\n",
    "    \"occasion\": \"爱情\",\n",
    "    \"ad_copy\": \"玫瑰，浪漫的象征，是你向心爱的人表达爱意的最佳选择。\"\n",
    "    },\n",
    "    {\n",
    "    \"flower_type\": \"康乃馨\",\n",
    "    \"occasion\": \"母亲节\",\n",
    "    \"ad_copy\": \"康乃馨代表着母爱的纯洁与伟大，是母亲节赠送给母亲的完美礼物。\"\n",
    "    },\n",
    "    {\n",
    "    \"flower_type\": \"百合\",\n",
    "    \"occasion\": \"庆祝\",\n",
    "    \"ad_copy\": \"百合象征着纯洁与高雅，是你庆祝特殊时刻的理想选择。\"\n",
    "    },\n",
    "    {\n",
    "    \"flower_type\": \"向日葵\",\n",
    "    \"occasion\": \"鼓励\",\n",
    "    \"ad_copy\": \"向日葵象征着坚韧和乐观，是你鼓励亲朋好友的最好方式。\"\n",
    "    }\n",
    "]\n"
   ]
  },
  {
   "cell_type": "markdown",
   "metadata": {},
   "source": [
    "## 创建提示模板"
   ]
  },
  {
   "cell_type": "code",
   "execution_count": 2,
   "metadata": {},
   "outputs": [
    {
     "name": "stdout",
     "output_type": "stream",
     "text": [
      "鲜花类型: 玫瑰\n",
      "场合: 爱情\n",
      "文案: 玫瑰，浪漫的象征，是你向心爱的人表达爱意的最佳选择。\n"
     ]
    }
   ],
   "source": [
    "# 2. 创建一个提示模板\n",
    "from langchain.prompts.prompt import PromptTemplate\n",
    "template=\"鲜花类型: {flower_type}\\n场合: {occasion}\\n文案: {ad_copy}\"\n",
    "prompt_sample = PromptTemplate(\n",
    "    input_variables=[\"flower_type\", \"occasion\", \"ad_copy\"], \n",
    "    template=template\n",
    "    )\n",
    "print(prompt_sample.format(**samples[0]))\n"
   ]
  },
  {
   "cell_type": "markdown",
   "metadata": {},
   "source": [
    "## 创建FewShotPromptTemplate对象"
   ]
  },
  {
   "cell_type": "code",
   "execution_count": 3,
   "metadata": {},
   "outputs": [
    {
     "name": "stdout",
     "output_type": "stream",
     "text": [
      "鲜花类型: 玫瑰\n",
      "场合: 爱情\n",
      "文案: 玫瑰，浪漫的象征，是你向心爱的人表达爱意的最佳选择。\n",
      "\n",
      "鲜花类型: 康乃馨\n",
      "场合: 母亲节\n",
      "文案: 康乃馨代表着母爱的纯洁与伟大，是母亲节赠送给母亲的完美礼物。\n",
      "\n",
      "鲜花类型: 百合\n",
      "场合: 庆祝\n",
      "文案: 百合象征着纯洁与高雅，是你庆祝特殊时刻的理想选择。\n",
      "\n",
      "鲜花类型: 向日葵\n",
      "场合: 鼓励\n",
      "文案: 向日葵象征着坚韧和乐观，是你鼓励亲朋好友的最好方式。\n",
      "\n",
      "鲜花类型: 野玫瑰\n",
      "场合: 爱情\n"
     ]
    }
   ],
   "source": [
    "# 3. 创建一个FewShotPromptTemplate对象\n",
    "from langchain.prompts.few_shot import FewShotPromptTemplate\n",
    "prompt = FewShotPromptTemplate(\n",
    "    examples=samples,\n",
    "    example_prompt=prompt_sample,\n",
    "    suffix=\"鲜花类型: {flower_type}\\n场合: {occasion}\",\n",
    "    input_variables=[\"flower_type\", \"occasion\"]\n",
    ")\n",
    "print(prompt.format(flower_type=\"野玫瑰\", occasion=\"爱情\"))\n"
   ]
  },
  {
   "cell_type": "markdown",
   "metadata": {},
   "source": [
    "## 调用大模型创新文案"
   ]
  },
  {
   "cell_type": "code",
   "execution_count": 4,
   "metadata": {},
   "outputs": [
    {
     "name": "stderr",
     "output_type": "stream",
     "text": [
      "C:\\Users\\34435\\AppData\\Local\\Temp\\ipykernel_34276\\2579544378.py:6: LangChainDeprecationWarning: The method `BaseChatModel.__call__` was deprecated in langchain-core 0.1.7 and will be removed in 1.0. Use invoke instead.\n",
      "  result = model(prompt.format(flower_type=\"野玫瑰\", occasion=\"爱情\"))\n"
     ]
    },
    {
     "name": "stdout",
     "output_type": "stream",
     "text": [
      "content='文案: 野玫瑰，代表着自由与真爱的力量，是向心爱的人表达独特情感的绝佳选择。' additional_kwargs={'refusal': None} response_metadata={'token_usage': {'completion_tokens': 31, 'prompt_tokens': 195, 'total_tokens': 226, 'completion_tokens_details': {'accepted_prediction_tokens': None, 'audio_tokens': None, 'reasoning_tokens': 0, 'rejected_prediction_tokens': None}, 'prompt_tokens_details': {'audio_tokens': None, 'cached_tokens': 0}}, 'model_name': 'gpt-4o-mini-2024-07-18', 'system_fingerprint': 'fp_d54531d9eb', 'finish_reason': 'stop', 'logprobs': None} id='run-93337551-fb5d-42b0-a18b-61570016e674-0' usage_metadata={'input_tokens': 195, 'output_tokens': 31, 'total_tokens': 226}\n"
     ]
    }
   ],
   "source": [
    "# 4. 把提示传递给大模型\n",
    "import os\n",
    "os.environ[\"OPENAI_BASE_URL\"] = 'https://chatapi.littlewheat.com/v1'\n",
    "from langchain_openai import ChatOpenAI\n",
    "model = ChatOpenAI(model_name='gpt-3.5-turbo')\n",
    "result = model(prompt.format(flower_type=\"野玫瑰\", occasion=\"爱情\"))\n",
    "print(result)\n"
   ]
  },
  {
   "cell_type": "markdown",
   "metadata": {},
   "source": [
    "## 使用示例选择器"
   ]
  },
  {
   "cell_type": "code",
   "execution_count": 8,
   "metadata": {},
   "outputs": [
    {
     "name": "stdout",
     "output_type": "stream",
     "text": [
      "鲜花类型: 玫瑰\n",
      "场合: 爱情\n",
      "文案: 玫瑰，浪漫的象征，是你向心爱的人表达爱意的最佳选择。\n",
      "\n",
      "鲜花类型: 红玫瑰\n",
      "场合: 爱情\n"
     ]
    }
   ],
   "source": [
    "# 5. 使用示例选择器\n",
    "from langchain.prompts.example_selector import SemanticSimilarityExampleSelector\n",
    "from langchain.vectorstores import Chroma\n",
    "from langchain.embeddings import OpenAIEmbeddings\n",
    "\n",
    "# 初始化示例选择器\n",
    "example_selector = SemanticSimilarityExampleSelector.from_examples(\n",
    "    samples,\n",
    "    OpenAIEmbeddings(),\n",
    "    Chroma,\n",
    "    k=1\n",
    ")\n",
    "\n",
    "# 创建一个使用示例选择器的FewShotPromptTemplate对象\n",
    "prompt = FewShotPromptTemplate(\n",
    "    example_selector=example_selector, \n",
    "    example_prompt=prompt_sample, \n",
    "    suffix=\"鲜花类型: {flower_type}\\n场合: {occasion}\", \n",
    "    input_variables=[\"flower_type\", \"occasion\"]\n",
    ")\n",
    "print(prompt.format(flower_type=\"红玫瑰\", occasion=\"爱情\"))\n"
   ]
  }
 ],
 "metadata": {
  "kernelspec": {
   "display_name": "momo",
   "language": "python",
   "name": "python3"
  },
  "language_info": {
   "codemirror_mode": {
    "name": "ipython",
    "version": 3
   },
   "file_extension": ".py",
   "mimetype": "text/x-python",
   "name": "python",
   "nbconvert_exporter": "python",
   "pygments_lexer": "ipython3",
   "version": "3.8.20"
  }
 },
 "nbformat": 4,
 "nbformat_minor": 2
}
