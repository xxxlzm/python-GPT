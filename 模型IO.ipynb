{
 "cells": [
  {
   "cell_type": "code",
   "execution_count": 1,
   "metadata": {},
   "outputs": [
    {
     "name": "stdout",
     "output_type": "stream",
     "text": [
      "input_variables=['flower_name', 'price'] template='您是一位专业的鲜花店文案撰写员。\\n\\n对于售价为 {price} 元的 {flower_name} ，您能提供一个吸引人的简短描述吗？\\n'\n"
     ]
    }
   ],
   "source": [
    "import os\n",
    "# 导入LangChain中的提示模板\n",
    "from langchain.prompts import PromptTemplate\n",
    "\n",
    "os.environ[\"OPENAI_BASE_URL\"] = 'https://chatapi.littlewheat.com/v1'\n",
    "\n",
    "# 创建原始模板\n",
    "template = \"\"\"您是一位专业的鲜花店文案撰写员。\\n\n",
    "对于售价为 {price} 元的 {flower_name} ，您能提供一个吸引人的简短描述吗？\n",
    "\"\"\"\n",
    "# 根据原始模板创建LangChain提示模板\n",
    "prompt = PromptTemplate.from_template(template) \n",
    "# 打印LangChain提示模板的内容\n",
    "print(prompt)\n",
    "\n",
    "input_variables=['flower_name', 'price'] \n",
    "output_parser=None\n",
    "partial_variables={} \n",
    "template='/\\n您是一位专业的鲜花店文案撰写员。\\n对于售价为 {price} 元的 {flower_name} ，您能提供一个吸引人的简短描述吗？\\n'\n",
    "template_format='f-string' \n",
    "validate_template=True\n"
   ]
  },
  {
   "cell_type": "code",
   "execution_count": null,
   "metadata": {},
   "outputs": [
    {
     "name": "stdout",
     "output_type": "stream",
     "text": [
      "当然可以！以下是对售价为 50 元的玫瑰的简短描述：\n",
      "\n",
      "“用一束经典玫瑰，传递爱与温暖。每一朵都蕴含着浪漫的情感，适合表达心中的爱意，或是送给自己的一份宠爱。只需 50 元，让这份美丽陪伴你的每一天！”\n"
     ]
    }
   ],
   "source": [
    "# 设置OpenAI API Key\n",
    "import os\n",
    "os.environ[\"OPENAI_BASE_URL\"] = 'https://chatapi.littlewheat.com/v1'\n",
    "\n",
    "# 导入LangChain中的OpenAI模型接口\n",
    "from langchain_openai import ChatOpenAI\n",
    "# 创建模型实例\n",
    "model = ChatOpenAI(model_name='gpt-3.5-turbo')\n",
    "#model = ChatOpenAI(model=\"gpt-3.5-turbo\", temperature=0.8, max_tokens=600)\n",
    "# 输入提示\n",
    "input = prompt.format(flower_name=[\"玫瑰\"], price='50')\n",
    "# 得到模型的输出\n",
    "output = model.invoke(input)\n",
    "# 打印输出内容\n",
    "print(output.content)  \n",
    "\n"
   ]
  },
  {
   "cell_type": "code",
   "execution_count": 7,
   "metadata": {},
   "outputs": [
    {
     "name": "stdout",
     "output_type": "stream",
     "text": [
      "input_variables=['flower_name', 'price'] template='您是一位专业的鲜花店文案撰写员。\\n\\n对于售价为 {price} 元的 {flower_name} ，您能提供一个吸引人的简短描述吗？\\n'\n",
      "content='当然可以！以下是一个吸引人的简短描述：\\n\\n🌹 **浪漫之选，尽在50元玫瑰** 🌹  \\n让这束娇艳的玫瑰为您的每一个特别时刻增添浪漫色彩。每一朵都蕴含着深情与祝福，传递您的爱意与心意。不论是告白、生日还是纪念日，50元的玫瑰总能点亮心中的温暖，成为您表达情感的完美伴侣。快来选购，让爱在花香中绽放吧！✨' additional_kwargs={'refusal': None} response_metadata={'token_usage': {'completion_tokens': 135, 'prompt_tokens': 47, 'total_tokens': 182, 'completion_tokens_details': {'accepted_prediction_tokens': None, 'audio_tokens': None, 'reasoning_tokens': 0, 'rejected_prediction_tokens': None}, 'prompt_tokens_details': {'audio_tokens': None, 'cached_tokens': 0}}, 'model_name': 'gpt-4o-mini-2024-07-18', 'system_fingerprint': 'fp_d54531d9eb', 'finish_reason': 'stop', 'logprobs': None} id='run-e8a17a56-04ec-4960-b24f-78cb23b36dd6-0' usage_metadata={'input_tokens': 47, 'output_tokens': 135, 'total_tokens': 182}\n",
      "content='当然可以！以下是一个吸引人的简短描述：\\n\\n🌷 **纯洁的百合 - 30元** 🌷  \\n在这个特别的时刻，让纯洁的百合为您的生活带来一丝清新。每一朵百合都象征着优雅与美好，散发着淡雅的香气，仿佛在低语着爱的秘密。无论是送给挚爱，还是为自己增添一抹亮色，都是完美之选。让百合传递您的心意，点亮每一个瞬间！✨' additional_kwargs={'refusal': None} response_metadata={'token_usage': {'completion_tokens': 129, 'prompt_tokens': 44, 'total_tokens': 173, 'completion_tokens_details': {'accepted_prediction_tokens': None, 'audio_tokens': None, 'reasoning_tokens': 0, 'rejected_prediction_tokens': None}, 'prompt_tokens_details': {'audio_tokens': None, 'cached_tokens': 0}}, 'model_name': 'gpt-4o-mini-2024-07-18', 'system_fingerprint': 'fp_d54531d9eb', 'finish_reason': 'stop', 'logprobs': None} id='run-1de60322-bab7-4564-bc36-3713eb9033a2-0' usage_metadata={'input_tokens': 44, 'output_tokens': 129, 'total_tokens': 173}\n",
      "content='当然可以！以下是康乃馨的简短吸引人描述：\\n\\n✨ **康乃馨：爱的永恒象征** ✨  \\n以其绚丽的色彩与迷人的香气，康乃馨不仅是一朵花，更是一份温暖的情感表达。无论是送给挚爱、亲友还是自赏，这朵娇艳的花朵都能传递心中的祝福与关怀。仅需20元，让康乃馨为您的每一个瞬间增添一抹芬芳！🌸' additional_kwargs={'refusal': None} response_metadata={'token_usage': {'completion_tokens': 122, 'prompt_tokens': 45, 'total_tokens': 167, 'completion_tokens_details': {'accepted_prediction_tokens': None, 'audio_tokens': None, 'reasoning_tokens': 0, 'rejected_prediction_tokens': None}, 'prompt_tokens_details': {'audio_tokens': None, 'cached_tokens': 0}}, 'model_name': 'gpt-4o-mini-2024-07-18', 'system_fingerprint': 'fp_d54531d9eb', 'finish_reason': 'stop', 'logprobs': None} id='run-6bdee015-b3ce-48ea-bc82-100fc59d3d3e-0' usage_metadata={'input_tokens': 45, 'output_tokens': 122, 'total_tokens': 167}\n"
     ]
    }
   ],
   "source": [
    "# 导入LangChain中的提示模板\n",
    "from langchain import PromptTemplate\n",
    "# 创建原始模板\n",
    "template = \"\"\"您是一位专业的鲜花店文案撰写员。\\n\n",
    "对于售价为 {price} 元的 {flower_name} ，您能提供一个吸引人的简短描述吗？\n",
    "\"\"\"\n",
    "# 根据原始模板创建LangChain提示模板\n",
    "prompt = PromptTemplate.from_template(template) \n",
    "# 打印LangChain提示模板的内容\n",
    "print(prompt)\n",
    "\n",
    "# 设置OpenAI API Key\n",
    "import os\n",
    "os.environ[\"OPENAI_BASE_URL\"] = 'https://chatapi.littlewheat.com/v1'\n",
    "# 导入LangChain中的OpenAI模型接口\n",
    "from langchain_openai import ChatOpenAI\n",
    "# 创建模型实例\n",
    "model = ChatOpenAI(model_name='gpt-3.5-turbo')\n",
    "\n",
    "# 多种花的列表\n",
    "flowers = [\"玫瑰\", \"百合\", \"康乃馨\"]\n",
    "prices = [\"50\", \"30\", \"20\"]\n",
    "\n",
    "# 生成多种花的文案\n",
    "for flower, price in zip(flowers, prices):\n",
    "    # 使用提示模板生成输入\n",
    "    input_prompt = prompt.format(flower_name=flower, price=price)\n",
    "\n",
    "    # 得到模型的输出\n",
    "    output = model.invoke(input_prompt)\n",
    "\n",
    "    # 打印输出内容\n",
    "    print(output)\n"
   ]
  },
  {
   "cell_type": "markdown",
   "metadata": {},
   "source": [
    "# 直接使用 Open AI API"
   ]
  },
  {
   "cell_type": "code",
   "execution_count": 2,
   "metadata": {},
   "outputs": [
    {
     "name": "stdout",
     "output_type": "stream",
     "text": [
      "当然可以！以下是一个吸引人的简短描述：\n",
      "\n",
      "“用一束经典的50元玫瑰，传递你心中的深情与浪漫。每一朵玫瑰都蕴含着爱与祝福，让这份美丽成为\n",
      "当然可以！以下是一个吸引人的简短描述：\n",
      "\n",
      "🌸 **清新百合，只需30元** 🌸  \n",
      "让这朵优雅的百合为您的空间增添一抹清新与宁静。每一朵百合都象征\n",
      "当然可以！以下是康乃馨的简短描述：\n",
      "\n",
      "🌸 **传递爱与温暖的康乃馨** 🌸  \n",
      "售价仅需20元，这朵康乃馨将为您的每一个瞬间增添柔和的色彩。无论是表达\n"
     ]
    }
   ],
   "source": [
    "import os\n",
    "from openai import OpenAI\n",
    "\n",
    "os.environ[\"OPENAI_BASE_URL\"] = 'https://chatapi.littlewheat.com/v1'\n",
    "prompt_text = \"您是一位专业的鲜花店文案撰写员。对于售价为{}元的{}，您能提供一个吸引人的简短描述吗？\" # 设置提示\n",
    "\n",
    "flowers = [\"玫瑰\", \"百合\", \"康乃馨\"]\n",
    "prices = [\"50\", \"30\", \"20\"]\n",
    "client = OpenAI(\n",
    "    api_key=os.environ.get(\"OPENAI_API_KEY\"), \n",
    ")\n",
    "# 循环调用Text模型的Completion方法，生成文案\n",
    "for flower, price in zip(flowers, prices):\n",
    "    prompt = prompt_text.format(price, flower)\n",
    "    response = client.chat.completions.create(\n",
    "        model=\"gpt-3.5-turbo\",\n",
    "        messages=[\n",
    "            {\"role\": \"system\", \"content\": \"您是一位专业的鲜花店文案撰写员。\"},\n",
    "            {\"role\": \"user\", \"content\": prompt}\n",
    "        ],\n",
    "        temperature=0.8,\n",
    "        max_tokens=60,\n",
    "    )\n",
    "    print(response.choices[0].message.content) # 输出文案\n",
    "\n"
   ]
  },
  {
   "cell_type": "markdown",
   "metadata": {},
   "source": [
    "# 输出解析"
   ]
  },
  {
   "cell_type": "code",
   "execution_count": 8,
   "metadata": {},
   "outputs": [
    {
     "name": "stdout",
     "output_type": "stream",
     "text": [
      "[{'flower': '玫瑰', 'price': '50', 'description': '在这个特别的时刻，用一束50元的玫瑰传递您的爱意。每一朵玫瑰都饱含深情，无论是表达爱恋还是友谊，都是完美的选择。鲜艳的色彩和迷人的香气，将为您和您的挚爱带来无尽的温暖与幸福。', 'reason': '这个文案旨在通过情感共鸣吸引顾客，让他们感受到玫瑰不仅是一种花卉，更是一种表达情感的方式，适合多种场合。使用简洁而富有感染力的语言，使顾客在短时间内产生购买欲望。'}, {'flower': '百合', 'price': '30', 'description': '绽放着纯洁与优雅的百合，每一朵都散发着淡淡的清香，象征着美好的祝愿与希望。只需30元，便能为您的生活增添一抹温馨，让这份自然之美陪伴您每一天。', 'reason': '这个文案旨在突出百合的优雅特质及其象征意义，以吸引顾客的情感共鸣，同时强调价格的实惠，使其更具购买诱惑。'}, {'flower': '康乃馨', 'price': '20', 'description': '绽放着温馨与爱意的康乃馨，象征着母爱与温暖。每一朵都如同细腻的情感，适合送给亲爱的母亲或心爱的她，让每个瞬间都充满温柔的关怀。现在仅需20元，带回家的不仅是一束花，更是一份心意的传递。', 'reason': '这个文案通过强调康乃馨的象征意义和情感价值，吸引消费者购买。同时，使用温暖的语言和亲切的表达方式，增加了购买的吸引力。'}]\n"
     ]
    }
   ],
   "source": [
    "# 导入OpenAI Key\n",
    "import os\n",
    "os.environ[\"OPENAI_BASE_URL\"] = 'https://chatapi.littlewheat.com/v1'\n",
    "\n",
    "# 导入LangChain中的提示模板\n",
    "from langchain.prompts import PromptTemplate\n",
    "# 创建原始提示模板\n",
    "prompt_template = \"\"\"您是一位专业的鲜花店文案撰写员。\n",
    "对于售价为 {price} 元的 {flower_name} ，您能提供一个吸引人的简短描述吗？\n",
    "{format_instructions}\"\"\"\n",
    "\n",
    "# 通过LangChain调用模型\n",
    "from langchain_openai import ChatOpenAI\n",
    "# 创建模型实例\n",
    "\n",
    "model = ChatOpenAI(model_name='gpt-3.5-turbo')\n",
    "\n",
    "# 导入结构化输出解析器和ResponseSchema\n",
    "from langchain.output_parsers import StructuredOutputParser, ResponseSchema\n",
    "# 定义我们想要接收的响应模式\n",
    "response_schemas = [\n",
    "    ResponseSchema(name=\"description\", description=\"鲜花的描述文案\"),\n",
    "    ResponseSchema(name=\"reason\", description=\"问什么要这样写这个文案\")\n",
    "]\n",
    "# 创建输出解析器\n",
    "output_parser = StructuredOutputParser.from_response_schemas(response_schemas)\n",
    "\n",
    "# 获取格式指示\n",
    "format_instructions = output_parser.get_format_instructions()\n",
    "# 根据原始模板创建提示，同时在提示中加入输出解析器的说明\n",
    "prompt = PromptTemplate.from_template(prompt_template, \n",
    "                partial_variables={\"format_instructions\": format_instructions}) \n",
    "\n",
    "# 数据准备\n",
    "flowers = [\"玫瑰\", \"百合\", \"康乃馨\"]\n",
    "prices = [\"50\", \"30\", \"20\"]\n",
    "\n",
    "# 创建一个空的DataFrame用于存储结果\n",
    "import pandas as pd\n",
    "df = pd.DataFrame(columns=[\"flower\", \"price\", \"description\", \"reason\"]) # 先声明列名\n",
    "\n",
    "for flower, price in zip(flowers, prices):\n",
    "    # 根据提示准备模型的输入\n",
    "    input = prompt.format(flower_name=flower, price=price)\n",
    "\n",
    "    # 获取模型的输出\n",
    "    output = model.invoke(input)\n",
    "    #print(output.content)  \n",
    "    # 解析模型的输出（这是一个字典结构）\n",
    "    parsed_output = output_parser.parse(output.content)\n",
    "\n",
    "    # 在解析后的输出中添加“flower”和“price”\n",
    "    parsed_output['flower'] = flower\n",
    "    parsed_output['price'] = price\n",
    "\n",
    "    # 将解析后的输出添加到DataFrame中\n",
    "    df.loc[len(df)] = parsed_output  \n",
    "\n",
    "# 打印字典\n",
    "print(df.to_dict(orient='records'))\n",
    "\n",
    "# 保存DataFrame到CSV文件\n",
    "df.to_csv(\"flowers_with_descriptions.csv\", index=False)\n"
   ]
  }
 ],
 "metadata": {
  "kernelspec": {
   "display_name": "momo",
   "language": "python",
   "name": "python3"
  },
  "language_info": {
   "codemirror_mode": {
    "name": "ipython",
    "version": 3
   },
   "file_extension": ".py",
   "mimetype": "text/x-python",
   "name": "python",
   "nbconvert_exporter": "python",
   "pygments_lexer": "ipython3",
   "version": "3.8.20"
  }
 },
 "nbformat": 4,
 "nbformat_minor": 2
}
